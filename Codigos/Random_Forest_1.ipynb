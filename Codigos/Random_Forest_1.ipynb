{
 "cells": [
  {
   "cell_type": "markdown",
   "id": "deeebcdb-2cdb-49f6-93cc-788500641b80",
   "metadata": {},
   "source": [
    "# Random Forest 1"
   ]
  },
  {
   "cell_type": "markdown",
   "id": "dd62e302-7e83-4816-8d80-ec5c72e48025",
   "metadata": {},
   "source": [
    "En este primer notebook hacemos un solo random forest para practicar la implementación y ver los parámetros"
   ]
  },
  {
   "cell_type": "code",
   "execution_count": null,
   "id": "dfabe0d1-03a4-4ecf-9ba9-a5add3daa692",
   "metadata": {},
   "outputs": [],
   "source": [
    "# paquetes\n",
    "import pandas as pd # para maenejar dataframes\n",
    "from sklearn.model_selection import train_test_split # para dividir la base de datos en train/test\n",
    "from sklearn.preprocessing import LabelEncoder # para codificar las categorías\n",
    "from sklearn.ensemble import RandomForestClassifier # para implementar random forest\n",
    "from sklearn.metrics import confusion_matrix, classification_report # para evaluar las predicciones\n",
    "import matplotlib.pyplot as plt\n",
    "import seaborn as sns"
   ]
  },
  {
   "cell_type": "code",
   "execution_count": null,
   "id": "5f45cf96-de2d-41e0-a0ee-c444400720aa",
   "metadata": {},
   "outputs": [],
   "source": [
    "# importamos los datos\n",
    "df_import = pd.read_csv('df_datos.csv', index_col='Unnamed: 0')\n",
    "\n",
    "# separamos las variables predictivas (X) de la categoría (y)\n",
    "df_X = df_import.drop(columns = ['id_ecg','categoria','patient_id'])\n",
    "ps_y = df_import['categoria'] # ps = pandas series"
   ]
  },
  {
   "cell_type": "code",
   "execution_count": null,
   "id": "78af2ab1-b958-421b-8768-e5894dcc5531",
   "metadata": {},
   "outputs": [],
   "source": [
    "# label encoder\n",
    "# vamos a codificar en números las categorías del dataframe\n",
    "# aquí tenemos dos funciones unidas: fit y transform.\n",
    "# - fit: crea el mapeo de las categorías, pero no lo aplica \n",
    "# - transform: aplica el mapeo creado en fit en los datos\n",
    "label_encoder = LabelEncoder()\n",
    "ps_y_encoded = label_encoder.fit_transform(ps_y)"
   ]
  },
  {
   "cell_type": "code",
   "execution_count": null,
   "id": "eecf9ce1-b029-4f39-9fa0-da1c8b39db96",
   "metadata": {},
   "outputs": [],
   "source": [
    "# train_test_split\n",
    "# vamos a dividir los datos para el grupo de entrenamiento y el de prueba.\n",
    "X_train, X_test, y_train, y_test = train_test_split(df_X, # variables predictivas\n",
    "                                                    ps_y_encoded, # variable objetivo (ya codificada)\n",
    "                                                    test_size= 0.8, # proporción del test size\n",
    "                                                    random_state=10) # fijamos random seed para reproducibilidad"
   ]
  },
  {
   "cell_type": "code",
   "execution_count": null,
   "id": "5b33a314-8045-4618-a44e-093284e501e5",
   "metadata": {},
   "outputs": [],
   "source": [
    "# entrenamiento del random forest\n",
    "# establecemos los parámetros del modelo\n",
    "modelo_abstracto = RandomForestClassifier(n_estimators=20, # número de árboles que se van a generar\n",
    "                                criterion='gini', # criterio de decisión para la construcción de cada árbol\n",
    "                                max_depth=None, # máximo número de nodos hacia abajo que puede haber. None = infinito\n",
    "                                min_samples_split=10, # si más de n eventos llegan a una hoja, entonces se vuelve en nodo y se subdivide en dos hojas.\n",
    "                                max_features=6, # cuántas columnas se van a considerar en la construcción de cada árbol.\n",
    "                                bootstrap=True, # usar subconjuntos con repetición de la base de datos para construír cada árbol.\n",
    "                                random_state=10) # semilla aleatoria para reproducibilidad\n",
    "\n",
    "# entrenamos el modelo\n",
    "modelo_especifico = modelo_abstracto.fit(X=X_train, y=y_train)"
   ]
  },
  {
   "cell_type": "code",
   "execution_count": null,
   "id": "7403671a-d050-471c-a787-cff3bc2efcd0",
   "metadata": {},
   "outputs": [],
   "source": [
    "# evaluación del modelo\n",
    "# predecimos para el conjunto de prueba\n",
    "y_pred = modelo_especifico.predict(X_test)\n",
    " \n",
    "# matriz de confusión\n",
    "matriz_confusion = confusion_matrix(y_true=y_test, y_pred=y_pred)\n",
    "\n",
    "# heatmap de la matriz de confusión\n",
    "plt.figure(figsize=(8, 8))\n",
    "sns.heatmap(matriz_confusion,\n",
    "            annot=True, # anotar valor en cada cuadro\n",
    "            fmt='d', # formato del valor que se mostrará en cada cuadro. 'd' hace referencia a 'sin decimales'\n",
    "            cmap='Blues', # le estamos diciendo que use colores azules\n",
    "            xticklabels=label_encoder.classes_, # leyenda del eje x\n",
    "            yticklabels=label_encoder.classes_) # leyenda del eje y\n",
    "plt.xlabel('Predicción') # título eje x\n",
    "plt.ylabel('Condición Real') # título eje y\n",
    "plt.title('Matriz de Confusión - Diagnóstico ECG') # título del gráfico\n",
    "plt.show()\n",
    "\n",
    "# tabla de resultados\n",
    "# precision = True Positive / (True Positive + False Positive) = De los que predijiste con padecimiento X, cuántos si tienen el padecimiento.\n",
    "# recall = True Positive / (True Positive + False Negative) = De los que tienen padecimiento X, cuántos predijiste correctamente.\n",
    "# f1-score = Media armónica de precisión y recall = Penaliza valores bajos, por lo que ambos valores deben ser buenos para un valor alto.\n",
    "# support = tamaño de muestra\n",
    "# acurracy = precisión global = (Global True Positives + Global True Negatives) / number of events\n",
    "# macro average = promedio de la columna\n",
    "# weighted average = promedio de la columna ponderado por su tamaño de muestra\n",
    "print(\"\")\n",
    "print(\"                 \" + \"\\033[1m\" + 'Reporte de clasificación' + \"\\033[1m\")\n",
    "print(classification_report(y_true=y_test, y_pred=y_pred, target_names=label_encoder.classes_))"
   ]
  }
 ],
 "metadata": {
  "kernelspec": {
   "display_name": "Python 3 (ipykernel)",
   "language": "python",
   "name": "python3"
  },
  "language_info": {
   "codemirror_mode": {
    "name": "ipython",
    "version": 3
   },
   "file_extension": ".py",
   "mimetype": "text/x-python",
   "name": "python",
   "nbconvert_exporter": "python",
   "pygments_lexer": "ipython3",
   "version": "3.13.1"
  }
 },
 "nbformat": 4,
 "nbformat_minor": 5
}
