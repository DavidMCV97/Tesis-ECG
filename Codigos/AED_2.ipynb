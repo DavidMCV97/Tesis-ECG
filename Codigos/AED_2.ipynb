{
 "cells": [
  {
   "cell_type": "markdown",
   "id": "0",
   "metadata": {},
   "source": [
    "# Análisis exploratorio de datos 2"
   ]
  },
  {
   "cell_type": "markdown",
   "id": "1",
   "metadata": {},
   "source": [
    "En este notebook analizamos los datos obtenidos por AED_2, que son datos de tiempo y no de voltaje de cada onda. <br>\n",
    "El plan es no eliminar outliers en esta fase del proyecto, pero si ajustar los límites de los gráficos para que se vean más claros. <br>\n",
    "Los datos de voltajes tienen 3 id_ecg más que los datos de tiempos (son los id_ecg = 1802, 2171, 6897). Estos ecg tienen hoyos en su información, por eso no puede proceder correctamente las herramientas de neurokit2."
   ]
  },
  {
   "cell_type": "code",
   "execution_count": null,
   "id": "2",
   "metadata": {},
   "outputs": [],
   "source": [
    "# paquetes\n",
    "import pandas as pd\n",
    "import matplotlib.pyplot as plt\n",
    "import numpy as np\n",
    "import seaborn as sns\n",
    "from sklearn.decomposition import PCA\n",
    "from sklearn.preprocessing import StandardScaler"
   ]
  },
  {
   "cell_type": "markdown",
   "id": "3",
   "metadata": {},
   "source": [
    "Para ejecutar este código, es necesario primero ejecutar el markdown \"Obtencion_Datos.ipynb\"."
   ]
  },
  {
   "cell_type": "code",
   "execution_count": null,
   "id": "4",
   "metadata": {},
   "outputs": [],
   "source": [
    "# importación de los datos\n",
    "datos = pd.read_csv('df_datos_tiempos.csv', index_col='Unnamed: 0')\n",
    "\n",
    "# un resumen rápido de la información del df\n",
    "datos.info()"
   ]
  },
  {
   "cell_type": "markdown",
   "id": "5",
   "metadata": {},
   "source": [
    "## Boxplots"
   ]
  },
  {
   "cell_type": "markdown",
   "id": "6",
   "metadata": {},
   "source": [
    "Los boxplots de seaborn muestran la siguiente información\n",
    "- mediana (línea de en medio).\n",
    "- Q1 y Q3 (límites de la caja).\n",
    "- Q1 - 1.5*IQR (límite del bigote inferior...).\n",
    "- Q3 + 1.5*IQR (... y superior, donde IQR = InterQuartile Ratio = Q3-Q1).\n",
    "- Outliers (datos fuera de los bigotes)."
   ]
  },
  {
   "cell_type": "code",
   "execution_count": null,
   "id": "7",
   "metadata": {},
   "outputs": [],
   "source": [
    "# creamos la figura\n",
    "fig, axs = plt.subplots(6,4, figsize=(15, 22))\n",
    "\n",
    "# agregamos los gráficos uno por uno\n",
    "z = 0 # para obtener solo una vez la info de leyendas\n",
    "# flatten nos va a ayudar a ordenar unidimensionalmente la ubicación de los axis\n",
    "# zip nos va a ayudar a regresar en pares ordenados la info de col,ubi\n",
    "for columna, ubicacion in zip(datos.columns[2:26],axs.flatten()):\n",
    "    #sacamos Q1,Q2 y el rango intercuartilico para definir los límites del eje x\n",
    "    Q1,Q3 = np.quantile(datos[columna].dropna(),[0.25,0.75])\n",
    "    RIQ = Q3-Q1\n",
    "    li = Q1 - 3*RIQ\n",
    "    ls = Q3 + 4*RIQ\n",
    "    sns.boxplot(datos, x=columna, hue='categoria', ax=ubicacion)\n",
    "    ubicacion.set_xlim([li,ls])\n",
    "    ubicacion.get_legend().remove() # quitamos las leyendas individuales de los gráficos\n",
    "    if z == 0: # para el primer ciclo...\n",
    "        handles, labels = ubicacion.get_legend_handles_labels() # obtenemos la info de leyendas\n",
    "        z =+ 1 # cambiamos z para no volver a sacar la info\n",
    "# agregamos la leyenda global\n",
    "fig.legend(handles, labels, loc='upper center', ncols = 4, bbox_to_anchor=(0.5, 0.92))\n",
    "plt.show() # imprimimos la imagen"
   ]
  },
  {
   "cell_type": "markdown",
   "id": "8",
   "metadata": {},
   "source": [
    "## Correlación de las variables contínuas"
   ]
  },
  {
   "cell_type": "code",
   "execution_count": null,
   "id": "9",
   "metadata": {},
   "outputs": [],
   "source": [
    "# matríz de correlación\n",
    "fig, ax = plt.subplots(figsize=(10,10))\n",
    "datos_correlacion = datos[datos.columns[2:26]].corr()\n",
    "sns.heatmap(datos_correlacion,\n",
    "            annot=True,\n",
    "            fmt=\".1f\",\n",
    "            cmap=sns.color_palette(\"vlag\",as_cmap=True),\n",
    "            xticklabels=datos_correlacion.columns.values,\n",
    "            yticklabels=datos_correlacion.columns.values)\n",
    "plt.show()"
   ]
  },
  {
   "cell_type": "code",
   "execution_count": null,
   "id": "10",
   "metadata": {},
   "outputs": [],
   "source": [
    "# representación gráfica de las correlaciones\n",
    "sns.pairplot(data=datos, hue='categoria', vars=datos.columns[2:26])\n",
    "plt.show()"
   ]
  },
  {
   "cell_type": "markdown",
   "id": "11",
   "metadata": {},
   "source": [
    "## Análisis de Componentes Principales"
   ]
  },
  {
   "cell_type": "code",
   "execution_count": null,
   "id": "12",
   "metadata": {},
   "outputs": [],
   "source": [
    "# PCA\n",
    "\n",
    "# primero arreglamos los datos\n",
    "datos_pca_originales = datos.drop(['id_ecg','categoria','patient_id','sex'],axis=1).dropna() # quitamos algunas columnas no numéricas y los NA.\n",
    "scaler = StandardScaler() # llamamos al normalizador\n",
    "datos_pca = scaler.fit_transform(datos_pca_originales) # normalizamos\n",
    "\n",
    "# aplicamos PCA\n",
    "pca = PCA(n_components=2) # llamamos al PCAdor\n",
    "datos_pca = pca.fit_transform(datos_pca) # aplicamos PCA\n",
    "\n",
    "# calculamos los pesos de cada variable en cada componente (se usan abajo)\n",
    "componentes = pca.components_  # Matriz de pesos: cada fila es un componente (PC1, PC2, ...)\n",
    "componentes = pd.DataFrame(componentes, columns=datos_pca_originales.columns) # transformamos los valores en un df\n",
    "print(f\"\\nCargas de las variables en los componentes principales:\\n{componentes}\")"
   ]
  },
  {
   "cell_type": "code",
   "execution_count": null,
   "id": "13",
   "metadata": {},
   "outputs": [],
   "source": [
    "# scatterplot del PCA\n",
    "plt.figure(figsize=(8, 6))        # tamaño del gráfico\n",
    "plt.scatter(x = datos_pca[:, 0],  # eje x será el PCA1\n",
    "            y = datos_pca[:, 1],  # eje y será el PCA2\n",
    "            c='blue',                 # color de los puntitos\n",
    "            edgecolor='k',            # color del perímetro de los puntitos. k es negro\n",
    "            s=60)                     # tamaño de los puntitos             \n",
    "plt.title('Proyección de los Datos en el Espacio de los Componentes Principales')\n",
    "plt.xlabel('Primer Componente Principal (PC1)')\n",
    "plt.ylabel('Segundo Componente Principal (PC2)')\n",
    "plt.grid()\n",
    "plt.show()"
   ]
  },
  {
   "cell_type": "code",
   "execution_count": null,
   "id": "14",
   "metadata": {},
   "outputs": [],
   "source": [
    "# gráfico de barras con el peso de cada variable en cada componente principal\n",
    "plt.figure(figsize=(8, 6))\n",
    "componentes.T.plot(kind='bar', figsize=(10, 6), legend=True)\n",
    "plt.title('Peso de cada variable en los Componentes Principales (PC1, PC2)')\n",
    "plt.ylabel('Cargas (Pesos)')\n",
    "plt.xlabel('Variables')\n",
    "plt.grid(axis='y')\n",
    "plt.xticks(rotation=45)\n",
    "plt.show()"
   ]
  },
  {
   "cell_type": "markdown",
   "id": "15",
   "metadata": {},
   "source": [
    "**Nota:** No se incluyen datos de edad y sexo al ser los mismos que en AED."
   ]
  }
 ],
 "metadata": {
  "kernelspec": {
   "display_name": "Python 3 (ipykernel)",
   "language": "python",
   "name": "python3"
  },
  "language_info": {
   "codemirror_mode": {
    "name": "ipython",
    "version": 3
   },
   "file_extension": ".py",
   "mimetype": "text/x-python",
   "name": "python",
   "nbconvert_exporter": "python",
   "pygments_lexer": "ipython3",
   "version": "3.13.1"
  }
 },
 "nbformat": 4,
 "nbformat_minor": 5
}
