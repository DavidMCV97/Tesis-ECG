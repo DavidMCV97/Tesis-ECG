{
 "cells": [
  {
   "cell_type": "markdown",
   "id": "0",
   "metadata": {},
   "source": [
    "# Imágenes\n",
    "\n",
    "En este notebook generaremos las imágenes necesarias para presentar en la tesis."
   ]
  },
  {
   "cell_type": "code",
   "execution_count": null,
   "id": "1",
   "metadata": {},
   "outputs": [],
   "source": [
    "# librerias numericas\n",
    "import pandas as pd\n",
    "import numpy as np\n",
    "\n",
    "# librerias de graficas\n",
    "import matplotlib.pyplot as plt\n",
    "import seaborn as sns"
   ]
  },
  {
   "cell_type": "code",
   "execution_count": null,
   "id": "2",
   "metadata": {},
   "outputs": [],
   "source": [
    "# importación de los datos\n",
    "datos_voltajes = pd.read_csv('df_datos_voltajes.csv', index_col='Unnamed: 0')"
   ]
  },
  {
   "cell_type": "markdown",
   "id": "3",
   "metadata": {},
   "source": [
    "## Imagen 1\n",
    "\n",
    "Boxplots de ritmo cardiaco"
   ]
  },
  {
   "cell_type": "code",
   "execution_count": null,
   "id": "4",
   "metadata": {},
   "outputs": [],
   "source": [
    "# columnas sobre ritmo cardiaco\n",
    "columnas = ['min_RC', 'media_RC', 'max_RC', 'sd_RC']\n",
    "nombres = ['mínimo ritmo cardiaco', 'media ritmo cardiaco', 'máximo ritmo cardiaco', 'desviación estandar ritmo cardiaco']\n",
    "labels = ['otro', 'MI', 'STTC', 'STTC/MI']\n",
    "z = 0\n",
    "\n",
    "# creamos la figura\n",
    "fig, axs = plt.subplots(2,2, figsize=(6, 7))\n",
    "\n",
    "#graficamos con un for\n",
    "for columna, ubicacion, nombre in zip(columnas, axs.flatten(), nombres):\n",
    "    Q1,Q3 = np.quantile(datos_voltajes[columna].dropna(),[0.25,0.75])\n",
    "    RIQ = Q3-Q1\n",
    "    li = Q1 - 2*RIQ\n",
    "    ls = Q3 + 3.5*RIQ\n",
    "    sns.boxplot(datos_voltajes, x=columna, hue='categoria', ax=ubicacion)\n",
    "    ubicacion.set_xlim([li,ls])\n",
    "    ubicacion.set_xlabel(nombre)\n",
    "    ubicacion.get_legend().remove() # quitamos las leyendas individuales de los gráficos\n",
    "    if z == 0: # para el primer ciclo...\n",
    "        handles, _ = ubicacion.get_legend_handles_labels() # obtenemos la info de leyendas\n",
    "        z =+ 1 # cambiamos z para no volver a sacar la info\n",
    "# agregamos la leyenda global\n",
    "fig.legend(handles, labels, loc='upper center', ncols=4, bbox_to_anchor=(0.55, 0.98))\n",
    "\n",
    "# Ajuste manual\n",
    "plt.subplots_adjust(top=0.92, right=1)\n",
    "plt.savefig('../imagenes/ritmo_cardiaco.png', dpi=300, bbox_inches='tight')\n",
    "plt.show()"
   ]
  },
  {
   "cell_type": "code",
   "execution_count": null,
   "id": "5",
   "metadata": {},
   "outputs": [],
   "source": [
    "datos_voltajes.columns"
   ]
  }
 ],
 "metadata": {
  "kernelspec": {
   "display_name": "venv",
   "language": "python",
   "name": "python3"
  },
  "language_info": {
   "codemirror_mode": {
    "name": "ipython",
    "version": 3
   },
   "file_extension": ".py",
   "mimetype": "text/x-python",
   "name": "python",
   "nbconvert_exporter": "python",
   "pygments_lexer": "ipython3",
   "version": "3.13.1"
  }
 },
 "nbformat": 4,
 "nbformat_minor": 5
}
