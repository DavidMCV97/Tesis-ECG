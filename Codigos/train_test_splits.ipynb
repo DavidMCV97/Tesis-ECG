{
 "cells": [
  {
   "cell_type": "markdown",
   "id": "0",
   "metadata": {},
   "source": [
    "# TRAIN-TEST SPLITS"
   ]
  },
  {
   "cell_type": "markdown",
   "id": "1",
   "metadata": {},
   "source": [
    "Para mantener un mismo train-test split. Se generarán dos listas de id's referentes a cada split."
   ]
  },
  {
   "cell_type": "code",
   "execution_count": null,
   "id": "2",
   "metadata": {},
   "outputs": [],
   "source": [
    "import pandas as pd\n",
    "from sklearn.preprocessing import LabelEncoder\n",
    "from sklearn.model_selection import train_test_split\n",
    "\n",
    "# importamos los datos\n",
    "df_import = pd.read_csv('df_datos.csv', usecols=['id_ecg','categoria'])\n",
    "\n",
    "# vamos a dividir los datos para el grupo de entrenamiento y el de prueba.\n",
    "# esta vez usaremos stratify, que garantiza proporciones similares de cada outcome en cada grupo.\n",
    "train_ids, test_ids = train_test_split(df_import['id_ecg'],\n",
    "                                       train_size=2000,\n",
    "                                       stratify=df_import['categoria']) # estratificamos por medio de y\n",
    "\n",
    "# vamos a imprimir los resultados del splitting\n",
    "train_size = len(train_ids)\n",
    "test_size = len(test_ids)\n",
    "porcentaje_train = train_size/(train_size+test_size)\n",
    "porcentaje_test = test_size/(train_size+test_size)\n",
    "print()\n",
    "print(f'\\033[1m tenemos {train_size:d} eventos para el training ({porcentaje_train:.2%}). \\033[0m') # f-strings y negritas\n",
    "print()\n",
    "print(f'\\033[1m tenemos {test_size:d} eventos para el testing ({porcentaje_test:.2%}). \\033[0m') # f-strings y negritas\n",
    "print()"
   ]
  },
  {
   "cell_type": "code",
   "execution_count": null,
   "id": "3",
   "metadata": {},
   "outputs": [],
   "source": [
    "import random\n",
    "\n",
    "# guardamos con una llave que se debe transformar en True\n",
    "# guardamos además con un aleatorio para evitar accidentes\n",
    "\n",
    "key = True\n",
    "secure_number = random.randint(0,1000)\n",
    "\n",
    "# guardamos\n",
    "if key:\n",
    "    # guardamos train split\n",
    "    pd.DataFrame(train_ids).to_csv('splits/train_ids'+str(secure_number)+'.csv',\n",
    "                                   index=False,\n",
    "                                   header=False)\n",
    "    pd.DataFrame(test_ids).to_csv('splits/test_ids'+str(secure_number)+'.csv',\n",
    "                                  index=False,\n",
    "                                  header=False)\n",
    "    print(f'datos guardados con el número {secure_number}.')"
   ]
  }
 ],
 "metadata": {
  "kernelspec": {
   "display_name": "Python 3 (ipykernel)",
   "language": "python",
   "name": "python3"
  },
  "language_info": {
   "codemirror_mode": {
    "name": "ipython",
    "version": 3
   },
   "file_extension": ".py",
   "mimetype": "text/x-python",
   "name": "python",
   "nbconvert_exporter": "python",
   "pygments_lexer": "ipython3",
   "version": "3.13.1"
  }
 },
 "nbformat": 4,
 "nbformat_minor": 5
}
