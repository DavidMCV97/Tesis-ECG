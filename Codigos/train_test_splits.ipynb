{
 "cells": [
  {
   "cell_type": "markdown",
   "id": "0",
   "metadata": {},
   "source": [
    "# TRAIN-TEST SPLITS"
   ]
  },
  {
   "cell_type": "markdown",
   "id": "1",
   "metadata": {},
   "source": [
    "Para mantener un mismo train-test split, lo haremos en este código una vez para todos los experimentos."
   ]
  },
  {
   "cell_type": "markdown",
   "id": "2",
   "metadata": {},
   "source": [
    "## 1) Split para datos de voltaje"
   ]
  },
  {
   "cell_type": "code",
   "execution_count": null,
   "id": "3",
   "metadata": {},
   "outputs": [],
   "source": [
    "import pandas as pd\n",
    "from sklearn.preprocessing import LabelEncoder\n",
    "from sklearn.model_selection import train_test_split\n",
    "\n",
    "# importamos los datos\n",
    "df_import = pd.read_csv('df_datos.csv', index_col='Unnamed: 0')\n",
    "\n",
    "# definimos las variables predictivas (X) y la categoría (y)\n",
    "df_X = df_import.drop(columns = ['categoria','patient_id'])\n",
    "ps_y = df_import['categoria'] # ps = pandas series\n",
    "\n",
    "# label encoder (codificar categorías)\n",
    "label_encoder = LabelEncoder()\n",
    "ps_y_encoded = label_encoder.fit_transform(ps_y)\n",
    "\n",
    "# vamos a dividir los datos para el grupo de entrenamiento y el de prueba.\n",
    "# esta vez usaremos stratify, que garantiza proporciones similares de cada outcome en cada grupo.\n",
    "X_train, X_test, y_train, y_test = train_test_split(df_X,\n",
    "                                                    ps_y_encoded,\n",
    "                                                    train_size=2000,\n",
    "                                                    stratify=ps_y_encoded) # estratificamos por medio de y\n",
    "\n",
    "# vamos a imprimir los resultados del splitting\n",
    "train_size = X_train.shape[0]\n",
    "test_size = X_test.shape[0]\n",
    "porcentaje_train = train_size/(train_size+test_size)\n",
    "porcentaje_test = test_size/(train_size+test_size)\n",
    "print()\n",
    "print(f'\\033[1m tenemos {train_size:d} eventos para el training ({porcentaje_train:.2%}). \\033[0m') # f-strings y negritas\n",
    "print()\n",
    "print(f'\\033[1m tenemos {test_size:d} eventos para el testing ({porcentaje_test:.2%}). \\033[0m') # f-strings y negritas\n",
    "print()"
   ]
  },
  {
   "cell_type": "code",
   "execution_count": null,
   "id": "4",
   "metadata": {},
   "outputs": [],
   "source": [
    "import random\n",
    "\n",
    "# guardamos con una llave que se debe transformar en True\n",
    "# guardamos además con un aleatorio para evitar accidentes\n",
    "\n",
    "key = False\n",
    "secure_number = random.randint(0,1000)\n",
    "\n",
    "# guardamos\n",
    "if key:\n",
    "    X_train.to_csv('splits/X_train_voltaje'+str(secure_number)+'.csv')\n",
    "    pd.DataFrame(y_train).to_csv('splits/y_train_voltaje'+str(secure_number)+'.csv')\n",
    "    X_test.to_csv('splits/X_test_voltaje'+str(secure_number)+'.csv')\n",
    "    pd.DataFrame(y_test).to_csv('splits/y_test_voltaje'+str(secure_number)+'.csv')\n",
    "    print('datos guardados con el numero '+str(secure_number))"
   ]
  },
  {
   "cell_type": "markdown",
   "id": "5",
   "metadata": {},
   "source": [
    "## 2) Split para datos de tiempo"
   ]
  },
  {
   "cell_type": "markdown",
   "id": "6",
   "metadata": {},
   "source": [
    "Vamos a igualar el split de datos de voltaje en el split de datos de tiempo."
   ]
  },
  {
   "cell_type": "code",
   "execution_count": null,
   "id": "7",
   "metadata": {},
   "outputs": [],
   "source": [
    "import pandas as pd\n",
    "\n",
    "# usamos el secure number de nuestra preferencia\n",
    "\n",
    "secure_number = 908\n",
    "\n",
    "# copiamos los id's del split test de datos de tiempo\n",
    "df_ids = pd.read_csv('splits/X_test_voltaje'+str(secure_number)+'.csv')\n",
    "ids = df_ids['id_ecg']\n",
    "\n",
    "# importamos los datos de tiempo\n",
    "df_import = pd.read_csv('df_datos_tiempos.csv', index_col='Unnamed: 0')\n",
    "\n",
    "# los que estén en idx, son los del split test\n",
    "df_test = df_import[df_import['id_ecg'].isin(ids)]\n",
    "\n",
    "# el resto son los del train split\n",
    "df_train = df_import[~df_import['id_ecg'].isin(ids)]\n",
    "\n",
    "# imprimimos los resultados\n",
    "train_size = df_train.shape[0]\n",
    "test_size = df_test.shape[0]\n",
    "porcentaje_train = train_size/(train_size+test_size)\n",
    "porcentaje_test = test_size/(train_size+test_size)\n",
    "print()\n",
    "print(f'\\033[1m tenemos {train_size:d} eventos para el training ({porcentaje_train:.2%}). \\033[0m') # f-strings y negritas\n",
    "print()\n",
    "print(f'\\033[1m tenemos {test_size:d} eventos para el testing ({porcentaje_test:.2%}). \\033[0m') # f-strings y negritas\n",
    "print()"
   ]
  },
  {
   "cell_type": "code",
   "execution_count": null,
   "id": "8",
   "metadata": {},
   "outputs": [],
   "source": [
    "import random\n",
    "\n",
    "# guardamos con una llave que se debe transformar en True\n",
    "# guardamos además con un aleatorio para evitar accidentes\n",
    "\n",
    "key = True\n",
    "secure_number = random.randint(0,1000)\n",
    "\n",
    "# guardamos\n",
    "if key:\n",
    "    df_train.to_csv('splits/df_train_tiempo'+str(secure_number)+'.csv')\n",
    "    df_test.to_csv('splits/df_test_tiempo'+str(secure_number)+'.csv')\n",
    "    print('datos guardados con el numero '+str(secure_number))"
   ]
  }
 ],
 "metadata": {
  "kernelspec": {
   "display_name": "Python 3 (ipykernel)",
   "language": "python",
   "name": "python3"
  },
  "language_info": {
   "codemirror_mode": {
    "name": "ipython",
    "version": 3
   },
   "file_extension": ".py",
   "mimetype": "text/x-python",
   "name": "python",
   "nbconvert_exporter": "python",
   "pygments_lexer": "ipython3",
   "version": "3.13.1"
  }
 },
 "nbformat": 4,
 "nbformat_minor": 5
}
