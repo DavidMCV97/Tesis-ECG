{
 "cells": [
  {
   "cell_type": "markdown",
   "id": "82325ff7-803f-47e7-8060-52535b7a1d40",
   "metadata": {},
   "source": [
    "# TEST - RANDOM FOREST"
   ]
  },
  {
   "cell_type": "markdown",
   "id": "7456d31f-b4b3-499f-b62c-f629e8275858",
   "metadata": {},
   "source": [
    "Voy a poner a practicar la implementación de los random forests"
   ]
  },
  {
   "cell_type": "code",
   "execution_count": 1,
   "id": "c132f4d1-6f03-42c9-b9d5-d746a1085908",
   "metadata": {},
   "outputs": [],
   "source": [
    "from sklearn.datasets import make_classification # para generar los datos pseudoaleatorios\n",
    "from numpy import mean \n",
    "from numpy import std\n",
    "from sklearn.model_selection import cross_val_score\n",
    "from sklearn.model_selection import RepeatedStratifiedKFold\n",
    "from sklearn.ensemble import RandomForestClassifier"
   ]
  },
  {
   "cell_type": "code",
   "execution_count": null,
   "id": "95f009a7-99b6-48a4-9e14-79ed0c18a495",
   "metadata": {},
   "outputs": [],
   "source": [
    "# generación de los datos para prueba\n",
    "\n",
    "# X serán los datos, y será la clasificación (X|y)\n",
    "X, y = make_classification(n_samples=1000,   # número de renglones\n",
    "                           n_features=20,    # número de variables (columnas)\n",
    "                           n_informative=15, # número de las variables que serán informativas\n",
    "                           n_redundant=5,    # número de variables que serán c.l. de las informativas\n",
    "                           random_state=3)   # semilla de los números pseudoaleatorios\n",
    "\n",
    "# nota: las columnas no informativas ni redundantes serán ruido aleatorio"
   ]
  },
  {
   "cell_type": "code",
   "execution_count": null,
   "id": "15431205-f4b9-47cc-8f65-9c59eb12c1df",
   "metadata": {},
   "outputs": [],
   "source": [
    "# Modelaje\n",
    "\n",
    "# creamos el objeto que almacenará el modelo\n",
    "model = RandomForestClassifier()\n",
    "\n",
    "# creamos el objeto que hará la separación de los datos\n",
    "CrossValidation = RepeatedStratifiedKFold(n_splits=10,    # número de subconjuntos a dividir para la crossvalidation\n",
    "                             n_repeats=3,    # número de veces que se repetirá el proceso\n",
    "                             random_state=1) # semilla del proceso pseudoaleatorio\n",
    "\n",
    "# ejecuta el modelo con los datos separados y obtenemos una \"calificación\"\n",
    "n_scores = cross_val_score(estimator = model,    # modelo de ML que se usará\n",
    "                           X = X,                # conjunto de variables \n",
    "                           y = y,                # conjunto de clasificaciones correctas\n",
    "                           scoring='accuracy',   # método de evaluación. 'acuracy' es # exitos / # eventos\n",
    "                           cv=CrossValidation,   # conjunto(s) para cross validation\n",
    "                           error_score='raise')  # en caso de error, ajustar este parámetro a 'rise' hace que se regrese un error"
   ]
  },
  {
   "cell_type": "code",
   "execution_count": null,
   "id": "80c596da-512a-42b3-aa4e-23708a55ef62",
   "metadata": {},
   "outputs": [],
   "source": [
    "# imprime el error\n",
    "print('Accuracy: %.3f (%.3f)' % (mean(n_scores), std(n_scores)))"
   ]
  }
 ],
 "metadata": {
  "kernelspec": {
   "display_name": "Python 3 (ipykernel)",
   "language": "python",
   "name": "python3"
  },
  "language_info": {
   "codemirror_mode": {
    "name": "ipython",
    "version": 3
   },
   "file_extension": ".py",
   "mimetype": "text/x-python",
   "name": "python",
   "nbconvert_exporter": "python",
   "pygments_lexer": "ipython3",
   "version": "3.13.1"
  }
 },
 "nbformat": 4,
 "nbformat_minor": 5
}
