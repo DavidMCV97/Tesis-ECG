{
 "cells": [
  {
   "cell_type": "markdown",
   "id": "0",
   "metadata": {},
   "source": [
    "# Random Forest 3"
   ]
  },
  {
   "cell_type": "markdown",
   "id": "1",
   "metadata": {},
   "source": [
    "En este tercer notebook hacemos random forest con Cross Validation y gridsearch para practicar la implementación."
   ]
  },
  {
   "cell_type": "code",
   "execution_count": null,
   "id": "2",
   "metadata": {},
   "outputs": [],
   "source": [
    "# paquetes\n",
    "import pandas as pd\n",
    "from sklearn.preprocessing import LabelEncoder\n",
    "from sklearn.model_selection import train_test_split, KFold, GridSearchCV\n",
    "from sklearn.ensemble import RandomForestClassifier\n",
    "import numpy as np\n",
    "from matplotlib import pyplot as plt\n",
    "import seaborn as sns"
   ]
  },
  {
   "cell_type": "code",
   "execution_count": null,
   "id": "3",
   "metadata": {},
   "outputs": [],
   "source": [
    "# Repetimos los pasos del Random_Forest_1\n",
    "\n",
    "# importamos los datos\n",
    "df_import = pd.read_csv('df_datos.csv', index_col='Unnamed: 0')\n",
    "\n",
    "# definimos las variables predictivas (X) y la categoría (y)\n",
    "df_X = df_import.drop(columns = ['id_ecg','categoria','patient_id'])\n",
    "ps_y = df_import['categoria'] # ps = pandas series\n",
    "\n",
    "# label encoder (codificar categorías)\n",
    "label_encoder = LabelEncoder()\n",
    "ps_y_encoded = label_encoder.fit_transform(ps_y)\n",
    "\n",
    "# vamos a dividir los datos para el grupo de entrenamiento y el de prueba.\n",
    "X_train, X_test, y_train, y_test = train_test_split(df_X,\n",
    "                                                    ps_y_encoded,\n",
    "                                                    train_size= 2000, # diferencia: fijamos el número de elementos\n",
    "                                                    random_state=10)\n",
    "\n",
    "# vamos a imprimir los resultados del splitting\n",
    "train_size = X_train.shape[0]\n",
    "test_size = X_test.shape[0]\n",
    "porcentaje_train = train_size/(train_size+test_size)\n",
    "porcentaje_test = test_size/(train_size+test_size)\n",
    "print()\n",
    "print(f'\\033[1m tenemos {train_size:d} eventos para el training ({porcentaje_train:.2%}). \\033[0m') # f-strings y negritas\n",
    "print()\n",
    "print(f'\\033[1m tenemos {test_size:d} eventos para el testing ({porcentaje_test:.2%}). \\033[0m') # f-strings y negritas\n",
    "print()"
   ]
  },
  {
   "cell_type": "code",
   "execution_count": null,
   "id": "4",
   "metadata": {},
   "outputs": [],
   "source": [
    "# creamos el modelo abstracto de gridsearch con cross validation\n",
    "\n",
    "# definimos el random forest sin los parámetros a mover\n",
    "rf_abstracto = RandomForestClassifier(criterion='gini',\n",
    "                                      max_depth=None,\n",
    "                                      min_samples_split=10,\n",
    "                                      bootstrap=True,\n",
    "                                      random_state=10)\n",
    "\n",
    "# método de foldeo\n",
    "cross_validation_strategy = KFold(n_splits=10,\n",
    "                                  shuffle=True,\n",
    "                                  random_state=10)\n",
    "\n",
    "#gridsearch: ejecutar CrossValidation con diferentes parámetros.\n",
    "gridsearch_abstracto = GridSearchCV(estimator=rf_abstracto, # modelo a evaluar\n",
    "                                    param_grid={'n_estimators':[15,20,25],  # hiperparámetro a modificar 1: número de árboles\n",
    "                                                'max_features':[5,6,7]},  # hiperparámetro a modificar 2: número de variables para la cosntrucción de árboles\n",
    "                                    scoring='accuracy', # evaluación\n",
    "                                    cv=cross_validation_strategy, # cross validation\n",
    "                                    error_score='raise') # que nos avise si hay errores"
   ]
  },
  {
   "cell_type": "code",
   "execution_count": null,
   "id": "5",
   "metadata": {},
   "outputs": [],
   "source": [
    "# ejecutamos gridsearch con las bases de datos\n",
    "gridsearch = gridsearch_abstracto.fit(X_train, y_train)"
   ]
  },
  {
   "cell_type": "code",
   "execution_count": null,
   "id": "6",
   "metadata": {},
   "outputs": [],
   "source": [
    "# vamos a visualizar los resultados\n",
    "\n",
    "# guardamos los resultados que nos interesan\n",
    "gridsearch_resultados = gridsearch.cv_results_ # aquí están todos los resultados resumidos\n",
    "parametros = gridsearch_resultados['params'] # guardamos los parámetros y...\n",
    "resultados = gridsearch_resultados['mean_test_score'] # el resultado del modelo con esos parámetros.\n",
    "\n",
    "# guardamos el i-esimo resultado con sus parámetros\n",
    "for i, dic in enumerate(parametros):\n",
    "    dic.update({'accuracy':resultados[i]})\n",
    "\n",
    "# vemos cuales parametros tenemos\n",
    "valores_n_estimators = np.unique([p['n_estimators'] for p in parametros])\n",
    "valores_max_features = np.unique([p['max_features'] for p in parametros])\n",
    "\n",
    "# creamos un DataFrame de ceros\n",
    "df_resultados = pd.DataFrame(data=np.zeros((len(valores_n_estimators),len(valores_max_features))),\n",
    "                             index=valores_n_estimators,\n",
    "                             columns=valores_max_features)\n",
    "\n",
    "# llenamos el dataframe\n",
    "for i, n_estimator in enumerate(valores_n_estimators):\n",
    "    for j, max_feature in enumerate(valores_max_features):\n",
    "        df_resultados.iloc[i,j] = [x['accuracy'] for x in parametros if (x['n_estimators']==n_estimator) and (x['max_features']==max_feature)][0]        \n",
    "\n",
    "# graficamos\n",
    "ax, fig = plt.subplots()\n",
    "ax = plt.imshow(df_resultados, vmin=0.4, vmax=0.6, cmap='Blues')\n",
    "plt.colorbar()\n",
    "plt.xticks(ticks=np.arange(len(df_resultados.columns)), labels=df_resultados.columns)\n",
    "plt.yticks(ticks=np.arange(len(df_resultados.index)), labels=df_resultados.index)\n",
    "plt.ylabel(\"Número de árboles\")\n",
    "plt.xlabel(\"Número de variables\")\n",
    "plt.title(\"Resultados de gridsearch\")\n",
    "plt.plot()"
   ]
  },
  {
   "cell_type": "code",
   "execution_count": null,
   "id": "7",
   "metadata": {},
   "outputs": [],
   "source": []
  }
 ],
 "metadata": {
  "kernelspec": {
   "display_name": "Python 3 (ipykernel)",
   "language": "python",
   "name": "python3"
  },
  "language_info": {
   "codemirror_mode": {
    "name": "ipython",
    "version": 3
   },
   "file_extension": ".py",
   "mimetype": "text/x-python",
   "name": "python",
   "nbconvert_exporter": "python",
   "pygments_lexer": "ipython3",
   "version": "3.13.1"
  }
 },
 "nbformat": 4,
 "nbformat_minor": 5
}
